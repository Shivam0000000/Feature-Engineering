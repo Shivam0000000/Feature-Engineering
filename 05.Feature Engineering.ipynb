{
 "cells": [
  {
   "cell_type": "markdown",
   "id": "12c46052-3f48-4ea9-8180-f16820756d01",
   "metadata": {},
   "source": [
    "Q1. Pearson correlation coefficient is a measure of the linear relationship between two variables. Suppose\n",
    "you have collected data on the amount of time students spend studying for an exam and their final exam\n",
    "scores. Calculate the Pearson correlation coefficient between these two variables and interpret the result.\n"
   ]
  },
  {
   "cell_type": "code",
   "execution_count": 7,
   "id": "d12c7bea-37d2-45d1-b508-7b0ff34b41ec",
   "metadata": {},
   "outputs": [
    {
     "data": {
      "text/html": [
       "<div>\n",
       "<style scoped>\n",
       "    .dataframe tbody tr th:only-of-type {\n",
       "        vertical-align: middle;\n",
       "    }\n",
       "\n",
       "    .dataframe tbody tr th {\n",
       "        vertical-align: top;\n",
       "    }\n",
       "\n",
       "    .dataframe thead th {\n",
       "        text-align: right;\n",
       "    }\n",
       "</style>\n",
       "<table border=\"1\" class=\"dataframe\">\n",
       "  <thead>\n",
       "    <tr style=\"text-align: right;\">\n",
       "      <th></th>\n",
       "      <th>study</th>\n",
       "      <th>score</th>\n",
       "    </tr>\n",
       "  </thead>\n",
       "  <tbody>\n",
       "    <tr>\n",
       "      <th>study</th>\n",
       "      <td>1.000000</td>\n",
       "      <td>0.909848</td>\n",
       "    </tr>\n",
       "    <tr>\n",
       "      <th>score</th>\n",
       "      <td>0.909848</td>\n",
       "      <td>1.000000</td>\n",
       "    </tr>\n",
       "  </tbody>\n",
       "</table>\n",
       "</div>"
      ],
      "text/plain": [
       "          study     score\n",
       "study  1.000000  0.909848\n",
       "score  0.909848  1.000000"
      ]
     },
     "execution_count": 7,
     "metadata": {},
     "output_type": "execute_result"
    }
   ],
   "source": [
    "# Import Libraries\n",
    "import numpy as np\n",
    "import pandas as pd\n",
    "\n",
    "# Data\n",
    "data={'study':[3,5,2,4,2,6,8,5,3,4],\n",
    "      'score':[50,80,45,75,50,95,90,85,55,65]\n",
    "     }\n",
    "\n",
    "# Data Convert into Data Frame\n",
    "df=pd.DataFrame(data)\n",
    "\n",
    "# Pearson Correlation\n",
    "df.corr(method='pearson')"
   ]
  },
  {
   "cell_type": "markdown",
   "id": "068f2451-5d16-4daa-9117-156156b8c6b5",
   "metadata": {},
   "source": [
    "Q2. Spearman's rank correlation is a measure of the monotonic relationship between two variables.\n",
    "Suppose you have collected data on the amount of sleep individuals get each night and their overall job\n",
    "satisfaction level on a scale of 1 to 10. Calculate the Spearman's rank correlation between these two\n",
    "variables and interpret the result.\n"
   ]
  },
  {
   "cell_type": "code",
   "execution_count": 8,
   "id": "f15365f6-b84d-47ab-9bae-2a30d429e698",
   "metadata": {},
   "outputs": [
    {
     "data": {
      "text/html": [
       "<div>\n",
       "<style scoped>\n",
       "    .dataframe tbody tr th:only-of-type {\n",
       "        vertical-align: middle;\n",
       "    }\n",
       "\n",
       "    .dataframe tbody tr th {\n",
       "        vertical-align: top;\n",
       "    }\n",
       "\n",
       "    .dataframe thead th {\n",
       "        text-align: right;\n",
       "    }\n",
       "</style>\n",
       "<table border=\"1\" class=\"dataframe\">\n",
       "  <thead>\n",
       "    <tr style=\"text-align: right;\">\n",
       "      <th></th>\n",
       "      <th>sleep</th>\n",
       "      <th>Job Satisfaction</th>\n",
       "    </tr>\n",
       "  </thead>\n",
       "  <tbody>\n",
       "    <tr>\n",
       "      <th>sleep</th>\n",
       "      <td>1.000000</td>\n",
       "      <td>0.116015</td>\n",
       "    </tr>\n",
       "    <tr>\n",
       "      <th>Job Satisfaction</th>\n",
       "      <td>0.116015</td>\n",
       "      <td>1.000000</td>\n",
       "    </tr>\n",
       "  </tbody>\n",
       "</table>\n",
       "</div>"
      ],
      "text/plain": [
       "                     sleep  Job Satisfaction\n",
       "sleep             1.000000          0.116015\n",
       "Job Satisfaction  0.116015          1.000000"
      ]
     },
     "execution_count": 8,
     "metadata": {},
     "output_type": "execute_result"
    }
   ],
   "source": [
    "# Import Libraries\n",
    "import numpy as np\n",
    "import pandas as pd\n",
    "\n",
    "# Data\n",
    "data={'sleep':[7,8,6,7,9,5,6,8,6,8],\n",
    "      'Job Satisfaction':[5,7,9,4,6,5,10,8,3,7]\n",
    "     }\n",
    "\n",
    "# Data Convert into Data Frame\n",
    "df=pd.DataFrame(data)\n",
    "\n",
    "# Spearman's rank Correlation\n",
    "df.corr(method='spearman')"
   ]
  },
  {
   "cell_type": "markdown",
   "id": "5cf08341-0eb1-480b-835b-6db7b9848b3f",
   "metadata": {},
   "source": [
    "Q3. Suppose you are conducting a study to examine the relationship between the number of hours of\n",
    "exercise per week and body mass index (BMI) in a sample of adults. You collected data on both variables\n",
    "for 50 participants. Calculate the Pearson correlation coefficient and the Spearman's rank correlation\n",
    "between these two variables and compare the results.\n"
   ]
  },
  {
   "cell_type": "code",
   "execution_count": 9,
   "id": "fc5348c8-616b-46d0-9b2c-da5bbb435013",
   "metadata": {},
   "outputs": [
    {
     "name": "stdout",
     "output_type": "stream",
     "text": [
      "Pearson Correlation Coefficient: -0.074151866659622\n",
      "Spearman's Rank Correlation: -0.05740718887455183\n"
     ]
    }
   ],
   "source": [
    "import numpy as np\n",
    "from scipy.stats import pearsonr, spearmanr\n",
    "\n",
    "# Generating random data\n",
    "np.random.seed(0)\n",
    "exercise_hours = np.random.randint(1, 15, size=50)  # Number of hours of exercise\n",
    "bmi = np.random.uniform(18, 35, size=50)  # BMI values\n",
    "\n",
    "# Calculate Pearson correlation coefficient\n",
    "pearson_corr, _ = pearsonr(exercise_hours, bmi)\n",
    "\n",
    "# Calculate Spearman's rank correlation\n",
    "spearman_corr, _ = spearmanr(exercise_hours, bmi)\n",
    "\n",
    "print(\"Pearson Correlation Coefficient:\", pearson_corr)\n",
    "print(\"Spearman's Rank Correlation:\", spearman_corr)"
   ]
  },
  {
   "cell_type": "markdown",
   "id": "a9f0522c-4ccc-4662-8e70-cecaedb73574",
   "metadata": {},
   "source": [
    "Q4. A researcher is interested in examining the relationship between the number of hours individuals\n",
    "spend watching television per day and their level of physical activity. The researcher collected data on\n",
    "both variables from a sample of 50 participants. Calculate the Pearson correlation coefficient between\n",
    "these two variables.\n"
   ]
  },
  {
   "cell_type": "code",
   "execution_count": 13,
   "id": "d2f0d496-4849-4f9c-b26e-40ce78c10078",
   "metadata": {},
   "outputs": [
    {
     "data": {
      "text/html": [
       "<div>\n",
       "<style scoped>\n",
       "    .dataframe tbody tr th:only-of-type {\n",
       "        vertical-align: middle;\n",
       "    }\n",
       "\n",
       "    .dataframe tbody tr th {\n",
       "        vertical-align: top;\n",
       "    }\n",
       "\n",
       "    .dataframe thead th {\n",
       "        text-align: right;\n",
       "    }\n",
       "</style>\n",
       "<table border=\"1\" class=\"dataframe\">\n",
       "  <thead>\n",
       "    <tr style=\"text-align: right;\">\n",
       "      <th></th>\n",
       "      <th>TV_hours</th>\n",
       "      <th>Physical_activity</th>\n",
       "    </tr>\n",
       "  </thead>\n",
       "  <tbody>\n",
       "    <tr>\n",
       "      <th>TV_hours</th>\n",
       "      <td>1.000000</td>\n",
       "      <td>0.103977</td>\n",
       "    </tr>\n",
       "    <tr>\n",
       "      <th>Physical_activity</th>\n",
       "      <td>0.103977</td>\n",
       "      <td>1.000000</td>\n",
       "    </tr>\n",
       "  </tbody>\n",
       "</table>\n",
       "</div>"
      ],
      "text/plain": [
       "                   TV_hours  Physical_activity\n",
       "TV_hours           1.000000           0.103977\n",
       "Physical_activity  0.103977           1.000000"
      ]
     },
     "execution_count": 13,
     "metadata": {},
     "output_type": "execute_result"
    }
   ],
   "source": [
    "# Import Libraries\n",
    "import numpy as np\n",
    "import pandas as pd\n",
    "\n",
    "# Data\n",
    "data={'TV_hours':np.random.randint(1,8,50),\n",
    "      'Physical_activity':np.random.randint(50,150,50)\n",
    "     }\n",
    "\n",
    "# Data Convert into Data Frame\n",
    "df=pd.DataFrame(data)\n",
    "\n",
    "# Spearman's rank Correlation\n",
    "df.corr(method='spearman')"
   ]
  },
  {
   "cell_type": "markdown",
   "id": "a56fceb8-51f4-40cd-bc16-bdb1c0d8940f",
   "metadata": {},
   "source": [
    "Q5. A survey was conducted to examine the relationship between age and preference for a particular\n",
    "brand of soft drink. The survey results are shown below:\n",
    "\n",
    "Age(Years): 25,42,37,19,31,28\n",
    "\n",
    "Soft drink Preference: Coke,Pepsi,Mountain dew,Coke,Pepsi,Coke"
   ]
  },
  {
   "cell_type": "code",
   "execution_count": 54,
   "id": "a7ad158c-e88a-48f9-8e41-6ade2deb2332",
   "metadata": {},
   "outputs": [
    {
     "name": "stdout",
     "output_type": "stream",
     "text": [
      "Spearman's Rank Correlation:  0.8332380897952965\n"
     ]
    },
    {
     "name": "stderr",
     "output_type": "stream",
     "text": [
      "/opt/conda/lib/python3.10/site-packages/sklearn/preprocessing/_label.py:116: DataConversionWarning: A column-vector y was passed when a 1d array was expected. Please change the shape of y to (n_samples, ), for example using ravel().\n",
      "  y = column_or_1d(y, warn=True)\n"
     ]
    }
   ],
   "source": [
    "# Import Libraries\n",
    "import pandas as pd\n",
    "from sklearn.preprocessing import LabelEncoder\n",
    "from scipy.stats import spearmanr\n",
    "\n",
    "\n",
    "# Data\n",
    "data={'Age': [25,42,37,19,31,28],\n",
    "      'soft_drink_preference': ['Coke','Pepsi','Mountain dew','Coke','Pepsi','Coke']\n",
    "     }\n",
    "\n",
    "# Data Convert into Data Frame\n",
    "df=pd.DataFrame(data)\n",
    "\n",
    "\n",
    "# Label Encoding\n",
    "encoder=LabelEncoder()\n",
    "encoded=encoder.fit_transform(df[['soft_drink_preference']])\n",
    "\n",
    "# Calculate Spearman's rank correlation\n",
    "spearman_corr, _ = spearmanr(df['Age'], encoded)\n",
    "\n",
    "\n",
    "print(\"Spearman's Rank Correlation: \",spearman_corr)  # 0.8332380897952965"
   ]
  },
  {
   "cell_type": "markdown",
   "id": "7bfcf3e8-f93a-47a7-baf3-3586aa3fa829",
   "metadata": {},
   "source": [
    "Q6. A company is interested in examining the relationship between the number of sales calls made per day\n",
    "and the number of sales made per week. The company collected data on both variables from a sample of\n",
    "30 sales representatives. Calculate the Pearson correlation coefficient between these two variables."
   ]
  },
  {
   "cell_type": "code",
   "execution_count": 55,
   "id": "ec2f5fec-6d19-4eec-82fc-027799a3a87e",
   "metadata": {},
   "outputs": [
    {
     "name": "stdout",
     "output_type": "stream",
     "text": [
      "Pearson Correlation Coefficient: 0.96529058824978\n"
     ]
    }
   ],
   "source": [
    "import numpy as np\n",
    "\n",
    "# Sample data (replace with your actual data)\n",
    "sales_calls = np.array([10, 12, 8, 15, 20, 10, 5, 18, 22, 14,\n",
    "                        12, 8, 16, 9, 11, 13, 17, 14, 10, 12,\n",
    "                        7, 10, 8, 13, 19, 11, 15, 12, 9, 16])\n",
    "\n",
    "sales_per_week = np.array([30, 40, 25, 45, 50, 35, 20, 55, 60, 40,\n",
    "                           38, 30, 50, 28, 33, 42, 48, 39, 32, 36,\n",
    "                           18, 30, 26, 42, 55, 31, 46, 35, 29, 52])\n",
    "\n",
    "# Calculate the Pearson correlation coefficient\n",
    "correlation_coefficient = np.corrcoef(sales_calls, sales_per_week)[0, 1]\n",
    "\n",
    "print(\"Pearson Correlation Coefficient:\", correlation_coefficient) # 0.96529058824978"
   ]
  }
 ],
 "metadata": {
  "kernelspec": {
   "display_name": "Python 3 (ipykernel)",
   "language": "python",
   "name": "python3"
  },
  "language_info": {
   "codemirror_mode": {
    "name": "ipython",
    "version": 3
   },
   "file_extension": ".py",
   "mimetype": "text/x-python",
   "name": "python",
   "nbconvert_exporter": "python",
   "pygments_lexer": "ipython3",
   "version": "3.10.8"
  }
 },
 "nbformat": 4,
 "nbformat_minor": 5
}
