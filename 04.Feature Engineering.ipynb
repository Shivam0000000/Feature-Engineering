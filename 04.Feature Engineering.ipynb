{
 "cells": [
  {
   "cell_type": "markdown",
   "id": "59b0fca8-77a1-40a5-b6e4-dd18ef86c4e3",
   "metadata": {},
   "source": [
    "Q1. What is the difference between Ordinal Encoding and Label Encoding? Provide an example of when you\n",
    "might choose one over the other.\n"
   ]
  },
  {
   "cell_type": "code",
   "execution_count": null,
   "id": "6b92c6fe-dcfe-4289-afd7-c53f29246254",
   "metadata": {},
   "outputs": [],
   "source": [
    "\"\"\"\n",
    "Label Encoding: Assigns unique numerical labels to categories without considering any inherent order. \n",
    "Suitable for nominal data. Can unintentionally imply an ordinal relationship.\n",
    "\n",
    "Ordinal Encoding: Assigns numerical values based on the inherent order of categories. Suitable for ordinal\n",
    "data where categories have a meaningful sequence.\n",
    "\n",
    "Choose Label Encoding for nominal data without order and Ordinal Encoding for ordinal data with a clear sequence.\n",
    "Be cautious with Label Encoding to avoid misinterpretation of data as ordinal when it's not.\n",
    "\"\"\""
   ]
  },
  {
   "cell_type": "markdown",
   "id": "a97964d4-33b5-4b49-821f-19fa083da184",
   "metadata": {},
   "source": [
    "Q2. Explain how Target Guided Ordinal Encoding works and provide an example of when you might use it in\n",
    "a machine learning project.\n"
   ]
  },
  {
   "cell_type": "code",
   "execution_count": null,
   "id": "ee5866d8-226c-4fd8-a63d-c2fe9544d1a1",
   "metadata": {},
   "outputs": [],
   "source": [
    "\"\"\"\n",
    "Target Guided Ordinal Encoding is a technique where you encode ordinal categorical variables based on their\n",
    "relationship with the target variable. \n",
    "The steps are:\n",
    "\n",
    "1-Calculate the mean/median of the target variable for each category.\n",
    "2-Order the categories based on these values.\n",
    "3-Replace categories with corresponding ordered encoded values while maintaining the monotonic relationship\n",
    "between the variable and the target.\n",
    "\n",
    "\n",
    "#Example:\n",
    "Use this technique when we want to capture the ordinal relationship between categories and the target variable. \n",
    "For instance, in predicting resale prices, we might encode the \"Condition\" of a product to maintain the order of \n",
    "conditions while reflecting their impact on prices.\n",
    "\"\"\""
   ]
  },
  {
   "cell_type": "markdown",
   "id": "2f233a21-39d3-42bb-bf64-0b3e6ff3a823",
   "metadata": {},
   "source": [
    "Q3. Define covariance and explain why it is important in statistical analysis. How is covariance calculated?"
   ]
  },
  {
   "cell_type": "code",
   "execution_count": null,
   "id": "7c959a8e-9a3d-4edf-b6e2-76c3597795ca",
   "metadata": {},
   "outputs": [],
   "source": [
    "\"\"\"\n",
    "Covariance measures how two variables change together. A positive covariance means they tend to increase or decrease\n",
    "together, while a negative covariance means one tends to increase when the other decreases. It's important in statistical\n",
    "analysis because it helps assess relationships, manage risks, analyze regression, and perform multivariate analyses.\n",
    "\n",
    "Calculation: \n",
    "Covariance is calculated using a formula that involves the differences between each data point and the mean of the variables.\n",
    "However, interpreting covariance can be challenging due to different scales, so the correlation coefficient is often used \n",
    "instead to provide a standardized measure of the linear relationship between variables.\n",
    "\"\"\""
   ]
  },
  {
   "cell_type": "markdown",
   "id": "06d0cd09-3146-43d4-a33f-a132f12d07bf",
   "metadata": {},
   "source": [
    "Q4. For a dataset with the following categorical variables: Color (red, green, blue), Size (small, medium,\n",
    "large), and Material (wood, metal, plastic), perform label encoding using Python's scikit-learn library.\n",
    "Show your code and explain the output.\n"
   ]
  },
  {
   "cell_type": "code",
   "execution_count": 2,
   "id": "fa84dd58-cc28-4316-ac16-def58dd326ba",
   "metadata": {},
   "outputs": [
    {
     "data": {
      "text/html": [
       "<div>\n",
       "<style scoped>\n",
       "    .dataframe tbody tr th:only-of-type {\n",
       "        vertical-align: middle;\n",
       "    }\n",
       "\n",
       "    .dataframe tbody tr th {\n",
       "        vertical-align: top;\n",
       "    }\n",
       "\n",
       "    .dataframe thead th {\n",
       "        text-align: right;\n",
       "    }\n",
       "</style>\n",
       "<table border=\"1\" class=\"dataframe\">\n",
       "  <thead>\n",
       "    <tr style=\"text-align: right;\">\n",
       "      <th></th>\n",
       "      <th>Color</th>\n",
       "      <th>Size</th>\n",
       "      <th>Material</th>\n",
       "      <th>color_encoded</th>\n",
       "      <th>size_encoded</th>\n",
       "      <th>material_encoded</th>\n",
       "    </tr>\n",
       "  </thead>\n",
       "  <tbody>\n",
       "    <tr>\n",
       "      <th>0</th>\n",
       "      <td>red</td>\n",
       "      <td>small</td>\n",
       "      <td>wood</td>\n",
       "      <td>2</td>\n",
       "      <td>2</td>\n",
       "      <td>2</td>\n",
       "    </tr>\n",
       "    <tr>\n",
       "      <th>1</th>\n",
       "      <td>green</td>\n",
       "      <td>medium</td>\n",
       "      <td>metal</td>\n",
       "      <td>1</td>\n",
       "      <td>1</td>\n",
       "      <td>0</td>\n",
       "    </tr>\n",
       "    <tr>\n",
       "      <th>2</th>\n",
       "      <td>blue</td>\n",
       "      <td>large</td>\n",
       "      <td>plastic</td>\n",
       "      <td>0</td>\n",
       "      <td>0</td>\n",
       "      <td>1</td>\n",
       "    </tr>\n",
       "  </tbody>\n",
       "</table>\n",
       "</div>"
      ],
      "text/plain": [
       "   Color    Size Material  color_encoded  size_encoded  material_encoded\n",
       "0    red   small     wood              2             2                 2\n",
       "1  green  medium    metal              1             1                 0\n",
       "2   blue   large  plastic              0             0                 1"
      ]
     },
     "execution_count": 2,
     "metadata": {},
     "output_type": "execute_result"
    }
   ],
   "source": [
    "from sklearn.preprocessing import LabelEncoder\n",
    "import pandas as pd\n",
    "\n",
    "\n",
    "# Sample Data\n",
    "data={'Color':['red','green','blue'],\n",
    "      'Size':['small','medium','large'],\n",
    "      'Material':['wood','metal','plastic']}\n",
    "\n",
    "# Dataframe\n",
    "df=pd.DataFrame(data)\n",
    "\n",
    "# Define LabelEncoder Object\n",
    "encoder=LabelEncoder()\n",
    "\n",
    "# Perform Label encoding\n",
    "color_encoded=encoder.fit_transform(df['Color'])\n",
    "size_encoded=encoder.fit_transform(df['Size'])\n",
    "material_encoded=encoder.fit_transform(df['Material'])\n",
    "\n",
    "#Creating Encoding features\n",
    "df['color_encoded']=color_encoded\n",
    "df['size_encoded']=size_encoded\n",
    "df['material_encoded']=material_encoded\n",
    "\n",
    "df.head()"
   ]
  },
  {
   "cell_type": "markdown",
   "id": "126c5cf5-be13-4fd0-b3ff-ef17ddc34346",
   "metadata": {},
   "source": [
    "Q5. Calculate the covariance matrix for the following variables in a dataset: Age, Income, and Education\n",
    "level. Interpret the results.\n"
   ]
  },
  {
   "cell_type": "code",
   "execution_count": 14,
   "id": "cfad9770-2554-455c-8c81-c6b2dc673a23",
   "metadata": {},
   "outputs": [
    {
     "name": "stdout",
     "output_type": "stream",
     "text": [
      "Covariance Matrix:\n",
      "[[2.30474747e+02 4.15593061e+04 1.51515152e-02]\n",
      " [4.15593061e+04 5.26033151e+08 4.62580808e+01]\n",
      " [1.51515152e-02 4.62580808e+01 1.30050505e+00]]\n"
     ]
    }
   ],
   "source": [
    "import numpy as np\n",
    "import seaborn as sns\n",
    "# Example data (replace this with your actual data)\n",
    "age = np.random.randint(20, 70, size=100)\n",
    "income = np.random.randint(20000, 100000, size=100)\n",
    "education_level = np.random.randint(1, 5, size=100)  # Assuming ordinal values\n",
    "\n",
    "# Create a data matrix\n",
    "data = np.vstack((age, income, education_level)).T\n",
    "\n",
    "# Calculate the covariance matrix\n",
    "cov_matrix = np.cov(data, rowvar=False)\n",
    "\n",
    "print(\"Covariance Matrix:\")\n",
    "print(cov_matrix)"
   ]
  },
  {
   "cell_type": "markdown",
   "id": "99febf1e-5bab-401b-ad5c-0f53d5d2af72",
   "metadata": {},
   "source": [
    "Q6. You are working on a machine learning project with a dataset containing several categorical\n",
    "variables, including \"Gender\" (Male/Female), \"Education Level\" (High School/Bachelor's/Master's/PhD),\n",
    "and \"Employment Status\" (Unemployed/Part-Time/Full-Time). Which encoding method would you use for\n",
    "each variable, and why?\n"
   ]
  },
  {
   "cell_type": "code",
   "execution_count": null,
   "id": "0fcd75ec-078e-4f00-b63b-edb11a4bdbe8",
   "metadata": {},
   "outputs": [],
   "source": [
    "\"\"\"\n",
    "1-Gender (Male/Female):\n",
    "For binary categorical variables like \"Gender,\" we can use Label Encoding. Since there are only two categories,\n",
    "we can encode them as 0 and 1 (or vice versa). There's no inherent order between male and female, so label\n",
    "encoding is appropriate.\n",
    "\n",
    "\n",
    "2-Education Level (High School/Bachelor's/Master's/PhD):\n",
    "We can use Ordinal Encoding. The education levels have a clear order from \"High School\" to \"PhD,\" and ordinal \n",
    "encoding will capture this order effectively. Assigning numerical values based on the educational hierarchy \n",
    "will maintain the meaningful relationship between the categories.\n",
    "\n",
    "\n",
    "3-Employment Status (Unemployed/Part-Time/Full-Time):\n",
    "For non-ordinal categorical variables like \"Employment Status,\" it's better to use One-Hot Encoding. One-hot \n",
    "encoding creates binary columns for each category, representing the presence or absence of that category. Since \n",
    "there's no inherent order between \"Unemployed,\" \"Part-Time,\" and \"Full-Time,\" one-hot encoding prevents the model\n",
    "from misinterpreting any ordinal relationship.\n",
    "\"\"\""
   ]
  },
  {
   "cell_type": "markdown",
   "id": "ddaf06dd-dfc5-49a6-b281-8abe57038559",
   "metadata": {},
   "source": [
    "Q7. You are analyzing a dataset with two continuous variables, \"Temperature\" and \"Humidity\", and two\n",
    "categorical variables, \"Weather Condition\" (Sunny/Cloudy/Rainy) and \"Wind Direction\" (North/South/\n",
    "East/West). Calculate the covariance between each pair of variables and interpret the results."
   ]
  },
  {
   "cell_type": "code",
   "execution_count": 12,
   "id": "678bfe3f-f4c7-4237-abff-8d56bc318abb",
   "metadata": {},
   "outputs": [
    {
     "name": "stdout",
     "output_type": "stream",
     "text": [
      "Covariance between Temperature and Humidity: 1.9338775510204076\n",
      "\n",
      "\n",
      "Cross-Tabulation between Weather Condition and Wind Direction:\n",
      "\n",
      "Wind Direction     East  North  South  West\n",
      "Weather Condition                          \n",
      "Cloudy                4      6      4     4\n",
      "Rainy                 3      1      4     4\n",
      "Sunny                 4      7      4     5\n"
     ]
    }
   ],
   "source": [
    "# Import libraries\n",
    "import pandas as pd\n",
    "import numpy as np\n",
    "\n",
    "data={'Temperature': np.random.randint(20,35,50),\n",
    "      'Humidity':np.random.randint(35,55,50),\n",
    "      'Weather Condition':np.random.choice(a=['Sunny','Cloudy','Rainy'],size=50,p=[0.5, 0.3, 0.2]),\n",
    "      'Wind Direction':np.random.choice(a=['North','South','East','West'],size=50,p=[0.3, 0.3, 0.2,0.2])}\n",
    "\n",
    "\n",
    "df=pd.DataFrame(data)\n",
    "\n",
    "# Calculate covariance between Temperature and Humidity\n",
    "covariance_temp_humidity = df['Temperature'].cov(df['Humidity'])\n",
    "\n",
    "# Perform a cross-tabulation between Weather Condition and Wind Direction\n",
    "cross_tab = pd.crosstab(df['Weather Condition'], df['Wind Direction'])\n",
    "\n",
    "print(\"Covariance between Temperature and Humidity:\", covariance_temp_humidity)\n",
    "print()\n",
    "print(\"\\nCross-Tabulation between Weather Condition and Wind Direction:\")\n",
    "print()\n",
    "print(cross_tab)"
   ]
  }
 ],
 "metadata": {
  "kernelspec": {
   "display_name": "Python 3 (ipykernel)",
   "language": "python",
   "name": "python3"
  },
  "language_info": {
   "codemirror_mode": {
    "name": "ipython",
    "version": 3
   },
   "file_extension": ".py",
   "mimetype": "text/x-python",
   "name": "python",
   "nbconvert_exporter": "python",
   "pygments_lexer": "ipython3",
   "version": "3.10.8"
  }
 },
 "nbformat": 4,
 "nbformat_minor": 5
}
